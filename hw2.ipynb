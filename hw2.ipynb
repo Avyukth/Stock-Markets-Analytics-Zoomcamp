{
  "nbformat": 4,
  "nbformat_minor": 0,
  "metadata": {
    "colab": {
      "provenance": []
    },
    "kernelspec": {
      "name": "python3",
      "display_name": "Python 3"
    },
    "language_info": {
      "name": "python"
    }
  },
  "cells": [
    {
      "cell_type": "code",
      "execution_count": 1,
      "metadata": {
        "colab": {
          "base_uri": "https://localhost:8080/"
        },
        "id": "joVqKqeVTAfT",
        "outputId": "e830d9a3-6cea-4502-b08b-a87698ef2771"
      },
      "outputs": [
        {
          "output_type": "stream",
          "name": "stdout",
          "text": [
            "Requirement already satisfied: yfinance in /usr/local/lib/python3.10/dist-packages (0.2.38)\n",
            "Requirement already satisfied: pandas>=1.3.0 in /usr/local/lib/python3.10/dist-packages (from yfinance) (2.0.3)\n",
            "Requirement already satisfied: numpy>=1.16.5 in /usr/local/lib/python3.10/dist-packages (from yfinance) (1.25.2)\n",
            "Requirement already satisfied: requests>=2.31 in /usr/local/lib/python3.10/dist-packages (from yfinance) (2.31.0)\n",
            "Requirement already satisfied: multitasking>=0.0.7 in /usr/local/lib/python3.10/dist-packages (from yfinance) (0.0.11)\n",
            "Requirement already satisfied: lxml>=4.9.1 in /usr/local/lib/python3.10/dist-packages (from yfinance) (4.9.4)\n",
            "Requirement already satisfied: appdirs>=1.4.4 in /usr/local/lib/python3.10/dist-packages (from yfinance) (1.4.4)\n",
            "Requirement already satisfied: pytz>=2022.5 in /usr/local/lib/python3.10/dist-packages (from yfinance) (2023.4)\n",
            "Requirement already satisfied: frozendict>=2.3.4 in /usr/local/lib/python3.10/dist-packages (from yfinance) (2.4.2)\n",
            "Requirement already satisfied: peewee>=3.16.2 in /usr/local/lib/python3.10/dist-packages (from yfinance) (3.17.3)\n",
            "Requirement already satisfied: beautifulsoup4>=4.11.1 in /usr/local/lib/python3.10/dist-packages (from yfinance) (4.12.3)\n",
            "Requirement already satisfied: html5lib>=1.1 in /usr/local/lib/python3.10/dist-packages (from yfinance) (1.1)\n",
            "Requirement already satisfied: soupsieve>1.2 in /usr/local/lib/python3.10/dist-packages (from beautifulsoup4>=4.11.1->yfinance) (2.5)\n",
            "Requirement already satisfied: six>=1.9 in /usr/local/lib/python3.10/dist-packages (from html5lib>=1.1->yfinance) (1.16.0)\n",
            "Requirement already satisfied: webencodings in /usr/local/lib/python3.10/dist-packages (from html5lib>=1.1->yfinance) (0.5.1)\n",
            "Requirement already satisfied: python-dateutil>=2.8.2 in /usr/local/lib/python3.10/dist-packages (from pandas>=1.3.0->yfinance) (2.8.2)\n",
            "Requirement already satisfied: tzdata>=2022.1 in /usr/local/lib/python3.10/dist-packages (from pandas>=1.3.0->yfinance) (2024.1)\n",
            "Requirement already satisfied: charset-normalizer<4,>=2 in /usr/local/lib/python3.10/dist-packages (from requests>=2.31->yfinance) (3.3.2)\n",
            "Requirement already satisfied: idna<4,>=2.5 in /usr/local/lib/python3.10/dist-packages (from requests>=2.31->yfinance) (3.7)\n",
            "Requirement already satisfied: urllib3<3,>=1.21.1 in /usr/local/lib/python3.10/dist-packages (from requests>=2.31->yfinance) (2.0.7)\n",
            "Requirement already satisfied: certifi>=2017.4.17 in /usr/local/lib/python3.10/dist-packages (from requests>=2.31->yfinance) (2024.2.2)\n"
          ]
        }
      ],
      "source": [
        "!pip install yfinance"
      ]
    },
    {
      "cell_type": "code",
      "source": [
        "# IMPORTS\n",
        "import numpy as np\n",
        "import pandas as pd\n",
        "\n",
        "#Fin Data Sources\n",
        "import yfinance as yf\n",
        "import pandas_datareader as pdr\n",
        "\n",
        "#Data viz\n",
        "import plotly.graph_objs as go\n",
        "import plotly.express as px\n",
        "\n",
        "import time\n",
        "from datetime import date\n",
        "\n",
        "# for graphs\n",
        "import matplotlib.pyplot as plt\n",
        "import requests\n",
        "import re\n",
        "import os\n",
        "import pyarrow.parquet as pq"
      ],
      "metadata": {
        "id": "BDo18IrUHP7P"
      },
      "execution_count": 9,
      "outputs": []
    },
    {
      "cell_type": "markdown",
      "source": [
        "## Question 1: IPO Filings Web Scraping and Data Processing\n",
        "What's the total sum ($m) of 2023 filings that happened on Fridays?\n",
        "\n",
        "Re-use the [Code Snippet 1] example to get the data from web for this endpoint: https://stockanalysis.com/ipos/filings/ Convert the 'Filing Date' to datetime(), 'Shares Offered' to float64 (if '-' is encountered, populate with NaNs). Define a new field 'Avg_price' based on the \"Price Range\", which equals to NaN if no price is specified, to the price (if only one number is provided), or to the average of 2 prices (if a range is given). You may be inspired by the function extract_numbers() in [Code Snippet 4], or you can write your own function to \"parse\" a string. Define a column \"Shares_offered_value\", which equals to \"Shares Offered\" * \"Avg_price\" (when both columns are defined; otherwise, it's NaN)\n",
        "\n",
        "Find the total sum in $m (millions of USD, closest INTEGER number) for all filings during 2023, which happened on Fridays (Date.dt.dayofweek()==4). You should see 32 records in total, 25 of it is not null.\n",
        "\n",
        "(additional: you can read about S-1 IPO filing to understand the context)"
      ],
      "metadata": {
        "id": "gVLzY2jAHWwS"
      }
    },
    {
      "cell_type": "code",
      "source": [
        "# Function to parse price ranges and compute average\n",
        "def parse_price_range(price_range):\n",
        "    if pd.isna(price_range):\n",
        "        return np.nan\n",
        "    numbers = list(map(float, re.findall(r\"\\d+\\.\\d+\", price_range)))\n",
        "    if len(numbers) == 0:\n",
        "        return np.nan\n",
        "    elif len(numbers) == 1:\n",
        "        return numbers[0]\n",
        "    else:\n",
        "        return sum(numbers) / len(numbers)\n",
        "\n",
        "# Set headers for the HTTP request\n",
        "headers = {\n",
        "    'User-Agent': 'Mozilla/5.0 (Windows NT 10.0; Win64; x64) AppleWebKit/537.36 (KHTML, like Gecko) Chrome/58.0.3029.110 Safari/537.3',\n",
        "}\n",
        "\n",
        "# Specify the URL to scrape\n",
        "url = \"https://stockanalysis.com/ipos/filings/\"\n",
        "\n",
        "# Send the request and get the response\n",
        "response = requests.get(url, headers=headers)\n",
        "\n",
        "# Parse the HTML content and extract the table\n",
        "ipo_dfs = pd.read_html(response.text)\n",
        "ipos = ipo_dfs[0]\n",
        "\n",
        "# Data cleaning and transformations\n",
        "ipos['Filing Date'] = pd.to_datetime(ipos['Filing Date'])\n",
        "ipos['Shares Offered'] = ipos['Shares Offered'].replace('-', np.nan).astype(float)\n",
        "ipos['Avg_price'] = ipos['Price Range'].apply(parse_price_range)\n",
        "ipos['Shares_offered_value'] = ipos['Shares Offered'] * ipos['Avg_price']\n",
        "\n",
        "# Filtering data for 2023 and Fridays\n",
        "ipos_2023_fridays = ipos[(ipos['Filing Date'].dt.year == 2023) & (ipos['Filing Date'].dt.dayofweek == 4)]\n",
        "\n",
        "# Calculating the total sum in millions of USD\n",
        "total_sum_millions = ipos_2023_fridays['Shares_offered_value'].sum() / 1e6\n",
        "\n",
        "# Output the result\n",
        "print(\"Total sum in millions (USD):\", total_sum_millions)\n",
        "print(\"Total records on Fridays:\", ipos_2023_fridays.shape[0])\n",
        "print(\"Non-null records:\", ipos_2023_fridays['Shares_offered_value'].notnull().sum())\n"
      ],
      "metadata": {
        "colab": {
          "base_uri": "https://localhost:8080/"
        },
        "id": "fDnv7lWQHQU2",
        "outputId": "5244b847-4d57-45df-becc-5b287ae42b01"
      },
      "execution_count": 4,
      "outputs": [
        {
          "output_type": "stream",
          "name": "stdout",
          "text": [
            "Total sum in millions (USD): 285.7\n",
            "Total records on Fridays: 32\n",
            "Non-null records: 25\n"
          ]
        }
      ]
    },
    {
      "cell_type": "markdown",
      "source": [
        "## Question 2: IPOs \"Fixed days hold\" strategy\n",
        "Find the optimal number of days X (between 1 and 30), where 75% quantile growth is the highest?\n",
        "\n",
        "Reuse [Code Snippet 1] to retrieve the list of IPOs from 2023 and 2024 (from URLs: https://stockanalysis.com/ipos/2023/ and https://stockanalysis.com/ipos/2024/). Get all OHLCV daily prices for all stocks with an \"IPO date\" before March 1, 2024 (\"< 2024-03-01\") - 184 tickers (without 'RYZB'). Please remove 'RYZB', as it is no longer available on Yahoo Finance.\n",
        "\n",
        "Sometimes you may need to adjust the symbol name (e.g., 'IBAC' on stockanalysis.com -> 'IBACU' on Yahoo Finance) to locate OHLCV prices for all stocks. Some of the tickers like 'DYCQ' and 'LEGT' were on the market less than 30 days (11 and 21 days, respectively). Let's leave them in the dataset; it just means that you couldn't hold them for more days than they were listed.\n",
        "\n",
        "Let's assume you managed to buy a new stock (listed on IPO) on the first day at the [Adj Close] price]. Your strategy is to hold for exactly X full days (where X is between 1 and 30) and sell at the \"Adj. Close\" price in X days (e.g., if X=1, you sell on the next day). Find X, when the 75% quantile growth (among 185 investments) is the highest.\n",
        "\n",
        "HINTs:\n",
        "\n",
        "You can generate 30 additional columns: growth_future_1d ... growth_future_30d, join that with the table of min_dates (first day when each stock has data on Yahoo Finance), and perform vector operations on the resulting dataset.\n",
        "You can use the DataFrame.describe() function to get mean, min, max, 25-50-75% quantiles.\n",
        "Additional:\n",
        "\n",
        "You can also ensure that the mean and 50th percentile (median) investment returns are negative for most X values, implying a wager for a \"lucky\" investor who might be in the top 25%.\n",
        "What's your recommendation: Do you suggest pursuing this strategy for an optimal X?"
      ],
      "metadata": {
        "id": "lDeu2dqeHuoH"
      }
    },
    {
      "cell_type": "code",
      "source": [
        "def get_ipo_data(year):\n",
        "    \"\"\"Fetch IPO data for a given year.\"\"\"\n",
        "    url = f\"https://stockanalysis.com/ipos/{year}/\"\n",
        "    headers = {'User-Agent': 'Mozilla/5.0'}\n",
        "    response = requests.get(url, headers=headers)\n",
        "    return pd.read_html(response.text)[0]\n",
        "\n",
        "def get_prices(symbol, start_date, end_date):\n",
        "    \"\"\"Download stock price data.\"\"\"\n",
        "    try:\n",
        "        return yf.download(symbol, start=start_date, end=end_date)\n",
        "    except Exception as e:\n",
        "        print(f\"Error downloading {symbol}: {e}\")\n",
        "        return None\n",
        "\n",
        "# Fetch and combine IPO data from 2023 and 2024\n",
        "ipo_data_2023 = get_ipo_data(2023)\n",
        "ipo_data_2024 = get_ipo_data(2024)\n",
        "ipo_data = pd.concat([ipo_data_2023, ipo_data_2024], ignore_index=True)\n",
        "ipo_data['IPO Date'] = pd.to_datetime(ipo_data['IPO Date'])\n",
        "filtered_ipo_data = ipo_data[(ipo_data['IPO Date'] < '2024-03-01') & (ipo_data['Symbol'] != 'RYZB')]\n",
        "\n",
        "# Adjust ticker names if needed and fetch prices\n",
        "symbol_adjustments = {\"PTHR\": \"PTHRF\", \"IBAC\": \"IBACU\"}\n",
        "price_data = {}\n",
        "for symbol in filtered_ipo_data['Symbol']:\n",
        "    adjusted_symbol = symbol_adjustments.get(symbol, symbol)\n",
        "    price_data[adjusted_symbol] = get_prices(adjusted_symbol, \"2023-01-01\", \"2024-03-01\")\n",
        "\n",
        "# Calculate future growth rates for each day from 1 to 30\n",
        "results = pd.DataFrame()\n",
        "for symbol, df in price_data.items():\n",
        "    if df is not None:\n",
        "        for i in range(1, 31):\n",
        "            df[f'growth_future_{i}d'] = (df['Adj Close'].shift(-i) / df['Adj Close'] - 1) * 100\n",
        "        results = pd.concat([results, df[[f'growth_future_{i}d' for i in range(1, 31)]]])\n",
        "\n",
        "# Analyze growth to find the optimal holding period\n",
        "quantile_growth = results.quantile(0.75)\n",
        "optimal_day = quantile_growth.idxmax()\n",
        "highest_growth = quantile_growth.max()\n",
        "\n",
        "print(f\"The optimal number of days X is {optimal_day} with a 75% quantile growth of {highest_growth:.2f}%.\")\n",
        "\n",
        "# Visualizations\n",
        "plt.figure(figsize=(10, 5))\n",
        "results[optimal_day].hist(bins=30)\n",
        "plt.title(f'Distribution of {optimal_day} Growth Rates Across All Tickers')\n",
        "plt.xlabel('Growth Rate (%)')\n",
        "plt.ylabel('Frequency')\n",
        "plt.show()\n",
        "\n",
        "plt.figure(figsize=(10, 5))\n",
        "plt.plot(range(1, 31), quantile_growth, marker='o')\n",
        "plt.title('75% Quantile Growth Rate by Day')\n",
        "plt.xlabel('Days')\n",
        "plt.ylabel('75% Quantile Growth Rate (%)')\n",
        "plt.grid(True)\n",
        "plt.show()"
      ],
      "metadata": {
        "colab": {
          "base_uri": "https://localhost:8080/",
          "height": 1000
        },
        "id": "c-ocCkoaIc4q",
        "outputId": "b7efb899-4b08-4466-c8a0-d8f978cfc9d7"
      },
      "execution_count": 5,
      "outputs": [
        {
          "output_type": "stream",
          "name": "stderr",
          "text": [
            "[*********************100%%**********************]  1 of 1 completed\n",
            "[*********************100%%**********************]  1 of 1 completed\n",
            "[*********************100%%**********************]  1 of 1 completed\n",
            "[*********************100%%**********************]  1 of 1 completed\n",
            "[*********************100%%**********************]  1 of 1 completed\n",
            "[*********************100%%**********************]  1 of 1 completed\n",
            "[*********************100%%**********************]  1 of 1 completed\n",
            "[*********************100%%**********************]  1 of 1 completed\n",
            "[*********************100%%**********************]  1 of 1 completed\n",
            "[*********************100%%**********************]  1 of 1 completed\n",
            "[*********************100%%**********************]  1 of 1 completed\n",
            "[*********************100%%**********************]  1 of 1 completed\n",
            "[*********************100%%**********************]  1 of 1 completed\n",
            "[*********************100%%**********************]  1 of 1 completed\n",
            "[*********************100%%**********************]  1 of 1 completed\n",
            "[*********************100%%**********************]  1 of 1 completed\n",
            "[*********************100%%**********************]  1 of 1 completed\n",
            "[*********************100%%**********************]  1 of 1 completed\n",
            "[*********************100%%**********************]  1 of 1 completed\n",
            "[*********************100%%**********************]  1 of 1 completed\n",
            "[*********************100%%**********************]  1 of 1 completed\n",
            "[*********************100%%**********************]  1 of 1 completed\n",
            "[*********************100%%**********************]  1 of 1 completed\n",
            "[*********************100%%**********************]  1 of 1 completed\n",
            "[*********************100%%**********************]  1 of 1 completed\n",
            "[*********************100%%**********************]  1 of 1 completed\n",
            "[*********************100%%**********************]  1 of 1 completed\n",
            "[*********************100%%**********************]  1 of 1 completed\n",
            "[*********************100%%**********************]  1 of 1 completed\n",
            "[*********************100%%**********************]  1 of 1 completed\n",
            "[*********************100%%**********************]  1 of 1 completed\n",
            "[*********************100%%**********************]  1 of 1 completed\n",
            "[*********************100%%**********************]  1 of 1 completed\n",
            "[*********************100%%**********************]  1 of 1 completed\n",
            "[*********************100%%**********************]  1 of 1 completed\n",
            "[*********************100%%**********************]  1 of 1 completed\n",
            "[*********************100%%**********************]  1 of 1 completed\n",
            "[*********************100%%**********************]  1 of 1 completed\n",
            "[*********************100%%**********************]  1 of 1 completed\n",
            "[*********************100%%**********************]  1 of 1 completed\n",
            "[*********************100%%**********************]  1 of 1 completed\n",
            "[*********************100%%**********************]  1 of 1 completed\n",
            "[*********************100%%**********************]  1 of 1 completed\n",
            "[*********************100%%**********************]  1 of 1 completed\n",
            "[*********************100%%**********************]  1 of 1 completed\n",
            "[*********************100%%**********************]  1 of 1 completed\n",
            "[*********************100%%**********************]  1 of 1 completed\n",
            "[*********************100%%**********************]  1 of 1 completed\n",
            "[*********************100%%**********************]  1 of 1 completed\n",
            "[*********************100%%**********************]  1 of 1 completed\n",
            "[*********************100%%**********************]  1 of 1 completed\n",
            "[*********************100%%**********************]  1 of 1 completed\n",
            "[*********************100%%**********************]  1 of 1 completed\n",
            "[*********************100%%**********************]  1 of 1 completed\n",
            "[*********************100%%**********************]  1 of 1 completed\n",
            "[*********************100%%**********************]  1 of 1 completed\n",
            "[*********************100%%**********************]  1 of 1 completed\n",
            "[*********************100%%**********************]  1 of 1 completed\n",
            "[*********************100%%**********************]  1 of 1 completed\n",
            "[*********************100%%**********************]  1 of 1 completed\n",
            "[*********************100%%**********************]  1 of 1 completed\n",
            "[*********************100%%**********************]  1 of 1 completed\n",
            "[*********************100%%**********************]  1 of 1 completed\n",
            "[*********************100%%**********************]  1 of 1 completed\n",
            "[*********************100%%**********************]  1 of 1 completed\n",
            "[*********************100%%**********************]  1 of 1 completed\n",
            "[*********************100%%**********************]  1 of 1 completed\n",
            "[*********************100%%**********************]  1 of 1 completed\n",
            "[*********************100%%**********************]  1 of 1 completed\n",
            "[*********************100%%**********************]  1 of 1 completed\n",
            "[*********************100%%**********************]  1 of 1 completed\n",
            "[*********************100%%**********************]  1 of 1 completed\n",
            "[*********************100%%**********************]  1 of 1 completed\n",
            "[*********************100%%**********************]  1 of 1 completed\n",
            "[*********************100%%**********************]  1 of 1 completed\n",
            "[*********************100%%**********************]  1 of 1 completed\n",
            "[*********************100%%**********************]  1 of 1 completed\n",
            "[*********************100%%**********************]  1 of 1 completed\n",
            "[*********************100%%**********************]  1 of 1 completed\n",
            "[*********************100%%**********************]  1 of 1 completed\n",
            "[*********************100%%**********************]  1 of 1 completed\n",
            "[*********************100%%**********************]  1 of 1 completed\n",
            "[*********************100%%**********************]  1 of 1 completed\n",
            "[*********************100%%**********************]  1 of 1 completed\n",
            "[*********************100%%**********************]  1 of 1 completed\n",
            "[*********************100%%**********************]  1 of 1 completed\n",
            "[*********************100%%**********************]  1 of 1 completed\n",
            "[*********************100%%**********************]  1 of 1 completed\n",
            "[*********************100%%**********************]  1 of 1 completed\n",
            "[*********************100%%**********************]  1 of 1 completed\n",
            "[*********************100%%**********************]  1 of 1 completed\n",
            "[*********************100%%**********************]  1 of 1 completed\n",
            "[*********************100%%**********************]  1 of 1 completed\n",
            "[*********************100%%**********************]  1 of 1 completed\n",
            "[*********************100%%**********************]  1 of 1 completed\n",
            "[*********************100%%**********************]  1 of 1 completed\n",
            "[*********************100%%**********************]  1 of 1 completed\n",
            "[*********************100%%**********************]  1 of 1 completed\n",
            "[*********************100%%**********************]  1 of 1 completed\n",
            "[*********************100%%**********************]  1 of 1 completed\n",
            "[*********************100%%**********************]  1 of 1 completed\n",
            "[*********************100%%**********************]  1 of 1 completed\n",
            "[*********************100%%**********************]  1 of 1 completed\n",
            "[*********************100%%**********************]  1 of 1 completed\n",
            "[*********************100%%**********************]  1 of 1 completed\n",
            "[*********************100%%**********************]  1 of 1 completed\n",
            "[*********************100%%**********************]  1 of 1 completed\n",
            "[*********************100%%**********************]  1 of 1 completed\n",
            "[*********************100%%**********************]  1 of 1 completed\n",
            "[*********************100%%**********************]  1 of 1 completed\n",
            "[*********************100%%**********************]  1 of 1 completed\n",
            "[*********************100%%**********************]  1 of 1 completed\n",
            "[*********************100%%**********************]  1 of 1 completed\n",
            "[*********************100%%**********************]  1 of 1 completed\n",
            "[*********************100%%**********************]  1 of 1 completed\n",
            "[*********************100%%**********************]  1 of 1 completed\n",
            "[*********************100%%**********************]  1 of 1 completed\n",
            "[*********************100%%**********************]  1 of 1 completed\n",
            "[*********************100%%**********************]  1 of 1 completed\n",
            "[*********************100%%**********************]  1 of 1 completed\n",
            "[*********************100%%**********************]  1 of 1 completed\n",
            "[*********************100%%**********************]  1 of 1 completed\n",
            "[*********************100%%**********************]  1 of 1 completed\n",
            "[*********************100%%**********************]  1 of 1 completed\n",
            "[*********************100%%**********************]  1 of 1 completed\n",
            "[*********************100%%**********************]  1 of 1 completed\n",
            "[*********************100%%**********************]  1 of 1 completed\n",
            "[*********************100%%**********************]  1 of 1 completed\n",
            "[*********************100%%**********************]  1 of 1 completed\n",
            "[*********************100%%**********************]  1 of 1 completed\n",
            "[*********************100%%**********************]  1 of 1 completed\n",
            "[*********************100%%**********************]  1 of 1 completed\n",
            "[*********************100%%**********************]  1 of 1 completed\n",
            "[*********************100%%**********************]  1 of 1 completed\n",
            "[*********************100%%**********************]  1 of 1 completed\n",
            "[*********************100%%**********************]  1 of 1 completed\n",
            "[*********************100%%**********************]  1 of 1 completed\n",
            "[*********************100%%**********************]  1 of 1 completed\n",
            "[*********************100%%**********************]  1 of 1 completed\n",
            "[*********************100%%**********************]  1 of 1 completed\n",
            "[*********************100%%**********************]  1 of 1 completed\n",
            "[*********************100%%**********************]  1 of 1 completed\n",
            "[*********************100%%**********************]  1 of 1 completed\n",
            "[*********************100%%**********************]  1 of 1 completed\n",
            "[*********************100%%**********************]  1 of 1 completed\n",
            "[*********************100%%**********************]  1 of 1 completed\n",
            "[*********************100%%**********************]  1 of 1 completed\n",
            "[*********************100%%**********************]  1 of 1 completed\n",
            "[*********************100%%**********************]  1 of 1 completed\n",
            "[*********************100%%**********************]  1 of 1 completed\n",
            "[*********************100%%**********************]  1 of 1 completed\n",
            "[*********************100%%**********************]  1 of 1 completed\n",
            "[*********************100%%**********************]  1 of 1 completed\n",
            "[*********************100%%**********************]  1 of 1 completed\n",
            "[*********************100%%**********************]  1 of 1 completed\n",
            "[*********************100%%**********************]  1 of 1 completed\n",
            "ERROR:yfinance:\n",
            "1 Failed download:\n",
            "ERROR:yfinance:['DYCQ']: Exception(\"%ticker%: Data doesn't exist for startDate = 1672549200, endDate = 1709269200\")\n",
            "[*********************100%%**********************]  1 of 1 completed\n",
            "[*********************100%%**********************]  1 of 1 completed\n",
            "[*********************100%%**********************]  1 of 1 completed\n",
            "[*********************100%%**********************]  1 of 1 completed\n",
            "[*********************100%%**********************]  1 of 1 completed\n",
            "[*********************100%%**********************]  1 of 1 completed\n",
            "[*********************100%%**********************]  1 of 1 completed\n",
            "[*********************100%%**********************]  1 of 1 completed\n",
            "[*********************100%%**********************]  1 of 1 completed\n",
            "[*********************100%%**********************]  1 of 1 completed\n",
            "ERROR:yfinance:\n",
            "1 Failed download:\n",
            "ERROR:yfinance:['LEGT']: Exception(\"%ticker%: Data doesn't exist for startDate = 1672549200, endDate = 1709269200\")\n",
            "[*********************100%%**********************]  1 of 1 completed\n",
            "[*********************100%%**********************]  1 of 1 completed\n",
            "[*********************100%%**********************]  1 of 1 completed\n",
            "[*********************100%%**********************]  1 of 1 completed\n",
            "[*********************100%%**********************]  1 of 1 completed\n",
            "[*********************100%%**********************]  1 of 1 completed\n",
            "[*********************100%%**********************]  1 of 1 completed\n",
            "[*********************100%%**********************]  1 of 1 completed\n",
            "[*********************100%%**********************]  1 of 1 completed\n",
            "[*********************100%%**********************]  1 of 1 completed\n",
            "[*********************100%%**********************]  1 of 1 completed\n",
            "[*********************100%%**********************]  1 of 1 completed\n",
            "[*********************100%%**********************]  1 of 1 completed\n",
            "ERROR:yfinance:\n",
            "1 Failed download:\n",
            "ERROR:yfinance:['JVSA']: Exception(\"%ticker%: Data doesn't exist for startDate = 1672549200, endDate = 1709269200\")\n",
            "[*********************100%%**********************]  1 of 1 completed\n",
            "[*********************100%%**********************]  1 of 1 completed\n",
            "[*********************100%%**********************]  1 of 1 completed\n",
            "[*********************100%%**********************]  1 of 1 completed\n",
            "[*********************100%%**********************]  1 of 1 completed\n"
          ]
        },
        {
          "output_type": "stream",
          "name": "stdout",
          "text": [
            "The optimal number of days X is growth_future_28d with a 75% quantile growth of 6.57%.\n"
          ]
        },
        {
          "output_type": "display_data",
          "data": {
            "text/plain": [
              "<Figure size 1000x500 with 1 Axes>"
            ],
            "image/png": "[encoded data removed]"
          },
          "metadata": {}
        },
        {
          "output_type": "display_data",
          "data": {
            "text/plain": [
              "<Figure size 1000x500 with 1 Axes>"
            ],
            "image/png": "[encoded data removed]"
          },
          "metadata": {}
        }
      ]
    },
    {
      "cell_type": "markdown",
      "source": [
        "## Question 3: Is Growth Concentrated in the Largest Stocks?\n",
        "Get the share of days (percentage as int) when Large Stocks outperform (growth_7d - growth over 7 periods back) the Largest stocks?\n",
        "\n",
        "Reuse [Code Snippet 5] to obtain OHLCV stats for 33 stocks for 10 full years of data (2014-01-01 to 2023-12-31). You'll need to download slightly more data (7 periods before 2014-01-01 to calculate the growth_7d for the first 6 days correctly):\n",
        "\n",
        "US_STOCKS = ['MSFT', 'AAPL', 'GOOG', 'NVDA', 'AMZN', 'META', 'BRK-B', 'LLY', 'AVGO','V', 'JPM']\n",
        "\n",
        "EU_STOCKS = ['NVO','MC.PA', 'ASML', 'RMS.PA', 'OR.PA', 'SAP', 'ACN', 'TTE', 'SIE.DE','IDEXY','CDI.PA']\n",
        "\n",
        "INDIA_STOCKS = ['RELIANCE.NS','TCS.NS','HDB','BHARTIARTL.NS','IBN','SBIN.NS','LICI.NS','INFY','ITC.NS','HINDUNILVR.NS','LT.NS']\n",
        "\n",
        "LARGEST_STOCKS = US_STOCKS + EU_STOCKS + INDIA_STOCKS\n",
        "\n",
        "Now let's add the top 12-22 stocks (as of end-April 2024):\n",
        "\n",
        "NEW_US = ['TSLA','WMT','XOM','UNH','MA','PG','JNJ','MRK','HD','COST','ORCL']\n",
        "\n",
        "NEW_EU = ['PRX.AS','CDI.PA','AIR.PA','SU.PA','ETN','SNY','BUD','DTE.DE','ALV.DE','MDT','AI.PA','EL.PA']\n",
        "\n",
        "NEW_INDIA = ['BAJFINANCE.NS','MARUTI.NS','HCLTECH.NS','TATAMOTORS.NS','SUNPHARMA.NS','ONGC.NS','ADANIENT.NS','ADANIENT.NS','NTPC.NS','KOTAKBANK.NS','TITAN.NS']\n",
        "\n",
        "LARGE_STOCKS = NEW_EU + NEW_US + NEW_INDIA\n",
        "\n",
        "You should be able to obtain stats for 33 LARGEST STOCKS and 32 LARGE STOCKS (from the actual stats on Yahoo Finance)\n",
        "\n",
        "Calculate growth_7d for every stock and every day. Get the average daily growth_7d for the LARGEST_STOCKS group vs. the LARGE_STOCKS group.\n",
        "\n",
        "For example, for the first of data you should have:\n",
        "\n",
        "Date\tticker_category\tgrowth_7d\n",
        "2014-01-01\tLARGE\t1.011684\n",
        "2014-01-01\tLARGEST\t1.011797\n",
        "On that day, the LARGEST group was growing faster than LARGE one (new stocks).\n",
        "\n",
        "Calculate the number of days when the LARGE GROUP (new smaller stocks) outperforms the LARGEST GROUP, divide it by the total number of trading days (which should be 2595 days), and convert it to a percentage (closest INTEGER value). For example, if you find that 1700 out of 2595 days meet this condition, it means that 1700/2595 = 0.655, or approximately 66% of days, the LARGE stocks were growing faster than the LARGEST ones. This suggests that you should consider extending your dataset with more stocks to seek higher growth.\n",
        "\n"
      ],
      "metadata": {
        "id": "ho4QUK-TMTtF"
      }
    },
    {
      "cell_type": "code",
      "source": [
        "# Define the stocks\n",
        "LARGEST_STOCKS = ['MSFT', 'AAPL', 'GOOG', 'NVDA', 'AMZN', 'META', 'BRK-B', 'LLY', 'AVGO', 'V', 'JPM', 'NVO', 'MC.PA', 'ASML', 'RMS.PA', 'OR.PA', 'SAP', 'ACN', 'TTE', 'SIE.DE', 'IDEXY', 'CDI.PA', 'RELIANCE.NS', 'TCS.NS', 'HDB', 'BHARTIARTL.NS', 'IBN', 'SBIN.NS', 'LICI.NS', 'INFY', 'ITC.NS', 'HINDUNILVR.NS', 'LT.NS']\n",
        "LARGE_STOCKS = ['TSLA', 'WMT', 'XOM', 'UNH', 'MA', 'PG', 'JNJ', 'MRK', 'HD', 'COST', 'ORCL', 'PRX.AS', 'AIR.PA', 'SU.PA', 'ETN', 'SNY', 'BUD', 'DTE.DE', 'ALV.DE', 'MDT', 'AI.PA', 'EL.PA', 'BAJFINANCE.NS', 'MARUTI.NS', 'HCLTECH.NS', 'TATAMOTORS.NS', 'SUNPHARMA.NS', 'ONGC.NS', 'ADANIENT.NS', 'NTPC.NS', 'KOTAKBANK.NS', 'TITAN.NS']\n",
        "\n",
        "# Fetch data\n",
        "def fetch_data(ticker, start_date, end_date):\n",
        "    data = yf.download(ticker, start=start_date, end=end_date)\n",
        "    return data['Adj Close']\n",
        "\n",
        "# Calculate 7-day growth for a single series\n",
        "def calculate_growth(series):\n",
        "    return series / series.shift(7) - 1\n",
        "\n",
        "start_date = '2013-12-01'  # Start a week earlier\n",
        "end_date = '2023-12-31'\n",
        "all_tickers = LARGEST_STOCKS + LARGE_STOCKS\n",
        "all_data = {}\n",
        "\n",
        "# Download data for each ticker and calculate 7-day growth\n",
        "for ticker in all_tickers:\n",
        "    print(f\"Downloading data for {ticker}\")\n",
        "    data = fetch_data(ticker, start_date, end_date)\n",
        "    if data is not None and not data.empty:\n",
        "        growth_data = calculate_growth(data)\n",
        "        # Filter the growth data to start from 2014-01-01\n",
        "        filtered_growth_data = growth_data[growth_data.index >= '2014-01-01']\n",
        "        all_data[ticker] = filtered_growth_data\n",
        "\n",
        "\n",
        "# Combine all data into a single DataFrame\n",
        "growth_data = pd.DataFrame(all_data)\n",
        "\n",
        "# Calculate daily averages for each category\n",
        "growth_data['LARGEST'] = growth_data[LARGEST_STOCKS].mean(axis=1)\n",
        "growth_data['LARGE'] = growth_data[LARGE_STOCKS].mean(axis=1)\n",
        "\n",
        "# Calculate the number of days LARGE outperforms LARGEST\n",
        "valid_days_data = growth_data.dropna(subset=['LARGE', 'LARGEST'])\n",
        "\n",
        "# Calculate the number of days LARGE outperforms LARGEST\n",
        "outperform_days = (valid_days_data['LARGE'] > valid_days_data['LARGEST']).sum()\n",
        "total_days = valid_days_data.shape[0]  # Total days with valid data for both groups\n",
        "\n",
        "# Compute the percentage of days LARGE outperforms LARGEST\n",
        "if total_days > 0:  # Prevent division by zero\n",
        "    percentage_days = (outperform_days / total_days) * 100\n",
        "else:\n",
        "    percentage_days = 0  # No days with valid data\n",
        "\n",
        "print(f\"Percentage of days when LARGE stocks outperformed LARGEST stocks: {percentage_days}%\")"
      ],
      "metadata": {
        "colab": {
          "base_uri": "https://localhost:8080/"
        },
        "id": "w4AOSNzeJX7V",
        "outputId": "7a17857f-80f5-4dd3-fbc8-0de246953532"
      },
      "execution_count": 7,
      "outputs": [
        {
          "output_type": "stream",
          "name": "stderr",
          "text": [
            "\r[*********************100%%**********************]  1 of 1 completed"
          ]
        },
        {
          "output_type": "stream",
          "name": "stdout",
          "text": [
            "Downloading data for MSFT\n",
            "Downloading data for AAPL\n"
          ]
        },
        {
          "output_type": "stream",
          "name": "stderr",
          "text": [
            "\n",
            "[*********************100%%**********************]  1 of 1 completed\n"
          ]
        },
        {
          "output_type": "stream",
          "name": "stdout",
          "text": [
            "Downloading data for GOOG\n"
          ]
        },
        {
          "output_type": "stream",
          "name": "stderr",
          "text": [
            "\r[*********************100%%**********************]  1 of 1 completed\n"
          ]
        },
        {
          "output_type": "stream",
          "name": "stdout",
          "text": [
            "Downloading data for NVDA\n"
          ]
        },
        {
          "output_type": "stream",
          "name": "stderr",
          "text": [
            "\r[*********************100%%**********************]  1 of 1 completed\n"
          ]
        },
        {
          "output_type": "stream",
          "name": "stdout",
          "text": [
            "Downloading data for AMZN\n"
          ]
        },
        {
          "output_type": "stream",
          "name": "stderr",
          "text": [
            "[*********************100%%**********************]  1 of 1 completed\n",
            "[*********************100%%**********************]  1 of 1 completed\n"
          ]
        },
        {
          "output_type": "stream",
          "name": "stdout",
          "text": [
            "Downloading data for META\n",
            "Downloading data for BRK-B\n"
          ]
        },
        {
          "output_type": "stream",
          "name": "stderr",
          "text": [
            "\r[*********************100%%**********************]  1 of 1 completed\n"
          ]
        },
        {
          "output_type": "stream",
          "name": "stdout",
          "text": [
            "Downloading data for LLY\n"
          ]
        },
        {
          "output_type": "stream",
          "name": "stderr",
          "text": [
            "[*********************100%%**********************]  1 of 1 completed\n",
            "[*********************100%%**********************]  1 of 1 completed\n"
          ]
        },
        {
          "output_type": "stream",
          "name": "stdout",
          "text": [
            "Downloading data for AVGO\n",
            "Downloading data for V\n"
          ]
        },
        {
          "output_type": "stream",
          "name": "stderr",
          "text": [
            "[*********************100%%**********************]  1 of 1 completed\n",
            "[*********************100%%**********************]  1 of 1 completed\n"
          ]
        },
        {
          "output_type": "stream",
          "name": "stdout",
          "text": [
            "Downloading data for JPM\n",
            "Downloading data for NVO\n"
          ]
        },
        {
          "output_type": "stream",
          "name": "stderr",
          "text": [
            "[*********************100%%**********************]  1 of 1 completed\n",
            "[*********************100%%**********************]  1 of 1 completed\n"
          ]
        },
        {
          "output_type": "stream",
          "name": "stdout",
          "text": [
            "Downloading data for MC.PA\n",
            "Downloading data for ASML\n"
          ]
        },
        {
          "output_type": "stream",
          "name": "stderr",
          "text": [
            "[*********************100%%**********************]  1 of 1 completed\n",
            "[*********************100%%**********************]  1 of 1 completed\n"
          ]
        },
        {
          "output_type": "stream",
          "name": "stdout",
          "text": [
            "Downloading data for RMS.PA\n",
            "Downloading data for OR.PA\n"
          ]
        },
        {
          "output_type": "stream",
          "name": "stderr",
          "text": [
            "[*********************100%%**********************]  1 of 1 completed\n",
            "[*********************100%%**********************]  1 of 1 completed\n"
          ]
        },
        {
          "output_type": "stream",
          "name": "stdout",
          "text": [
            "Downloading data for SAP\n",
            "Downloading data for ACN\n"
          ]
        },
        {
          "output_type": "stream",
          "name": "stderr",
          "text": [
            "[*********************100%%**********************]  1 of 1 completed\n",
            "[*********************100%%**********************]  1 of 1 completed\n"
          ]
        },
        {
          "output_type": "stream",
          "name": "stdout",
          "text": [
            "Downloading data for TTE\n",
            "Downloading data for SIE.DE\n"
          ]
        },
        {
          "output_type": "stream",
          "name": "stderr",
          "text": [
            "[*********************100%%**********************]  1 of 1 completed\n",
            "[*********************100%%**********************]  1 of 1 completed\n"
          ]
        },
        {
          "output_type": "stream",
          "name": "stdout",
          "text": [
            "Downloading data for IDEXY\n",
            "Downloading data for CDI.PA\n"
          ]
        },
        {
          "output_type": "stream",
          "name": "stderr",
          "text": [
            "[*********************100%%**********************]  1 of 1 completed\n",
            "[*********************100%%**********************]  1 of 1 completed\n"
          ]
        },
        {
          "output_type": "stream",
          "name": "stdout",
          "text": [
            "Downloading data for RELIANCE.NS\n",
            "Downloading data for TCS.NS\n"
          ]
        },
        {
          "output_type": "stream",
          "name": "stderr",
          "text": [
            "[*********************100%%**********************]  1 of 1 completed\n",
            "[*********************100%%**********************]  1 of 1 completed\n"
          ]
        },
        {
          "output_type": "stream",
          "name": "stdout",
          "text": [
            "Downloading data for HDB\n",
            "Downloading data for BHARTIARTL.NS\n"
          ]
        },
        {
          "output_type": "stream",
          "name": "stderr",
          "text": [
            "[*********************100%%**********************]  1 of 1 completed\n",
            "[*********************100%%**********************]  1 of 1 completed\n"
          ]
        },
        {
          "output_type": "stream",
          "name": "stdout",
          "text": [
            "Downloading data for IBN\n",
            "Downloading data for SBIN.NS\n"
          ]
        },
        {
          "output_type": "stream",
          "name": "stderr",
          "text": [
            "[*********************100%%**********************]  1 of 1 completed\n",
            "[*********************100%%**********************]  1 of 1 completed\n"
          ]
        },
        {
          "output_type": "stream",
          "name": "stdout",
          "text": [
            "Downloading data for LICI.NS\n",
            "Downloading data for INFY\n"
          ]
        },
        {
          "output_type": "stream",
          "name": "stderr",
          "text": [
            "[*********************100%%**********************]  1 of 1 completed\n",
            "[*********************100%%**********************]  1 of 1 completed\n"
          ]
        },
        {
          "output_type": "stream",
          "name": "stdout",
          "text": [
            "Downloading data for ITC.NS\n",
            "Downloading data for HINDUNILVR.NS\n"
          ]
        },
        {
          "output_type": "stream",
          "name": "stderr",
          "text": [
            "[*********************100%%**********************]  1 of 1 completed\n",
            "[*********************100%%**********************]  1 of 1 completed\n"
          ]
        },
        {
          "output_type": "stream",
          "name": "stdout",
          "text": [
            "Downloading data for LT.NS\n",
            "Downloading data for TSLA\n"
          ]
        },
        {
          "output_type": "stream",
          "name": "stderr",
          "text": [
            "[*********************100%%**********************]  1 of 1 completed\n",
            "[*********************100%%**********************]  1 of 1 completed\n"
          ]
        },
        {
          "output_type": "stream",
          "name": "stdout",
          "text": [
            "Downloading data for WMT\n",
            "Downloading data for XOM\n"
          ]
        },
        {
          "output_type": "stream",
          "name": "stderr",
          "text": [
            "[*********************100%%**********************]  1 of 1 completed\n",
            "[*********************100%%**********************]  1 of 1 completed\n"
          ]
        },
        {
          "output_type": "stream",
          "name": "stdout",
          "text": [
            "Downloading data for UNH\n",
            "Downloading data for MA\n"
          ]
        },
        {
          "output_type": "stream",
          "name": "stderr",
          "text": [
            "[*********************100%%**********************]  1 of 1 completed\n",
            "[*********************100%%**********************]  1 of 1 completed\n"
          ]
        },
        {
          "output_type": "stream",
          "name": "stdout",
          "text": [
            "Downloading data for PG\n",
            "Downloading data for JNJ\n"
          ]
        },
        {
          "output_type": "stream",
          "name": "stderr",
          "text": [
            "[*********************100%%**********************]  1 of 1 completed\n",
            "[*********************100%%**********************]  1 of 1 completed\n"
          ]
        },
        {
          "output_type": "stream",
          "name": "stdout",
          "text": [
            "Downloading data for MRK\n",
            "Downloading data for HD\n"
          ]
        },
        {
          "output_type": "stream",
          "name": "stderr",
          "text": [
            "[*********************100%%**********************]  1 of 1 completed\n",
            "[*********************100%%**********************]  1 of 1 completed\n"
          ]
        },
        {
          "output_type": "stream",
          "name": "stdout",
          "text": [
            "Downloading data for COST\n",
            "Downloading data for ORCL\n"
          ]
        },
        {
          "output_type": "stream",
          "name": "stderr",
          "text": [
            "[*********************100%%**********************]  1 of 1 completed\n",
            "[*********************100%%**********************]  1 of 1 completed\n"
          ]
        },
        {
          "output_type": "stream",
          "name": "stdout",
          "text": [
            "Downloading data for PRX.AS\n",
            "Downloading data for AIR.PA\n"
          ]
        },
        {
          "output_type": "stream",
          "name": "stderr",
          "text": [
            "[*********************100%%**********************]  1 of 1 completed\n",
            "[*********************100%%**********************]  1 of 1 completed\n"
          ]
        },
        {
          "output_type": "stream",
          "name": "stdout",
          "text": [
            "Downloading data for SU.PA\n",
            "Downloading data for ETN\n"
          ]
        },
        {
          "output_type": "stream",
          "name": "stderr",
          "text": [
            "[*********************100%%**********************]  1 of 1 completed\n",
            "[*********************100%%**********************]  1 of 1 completed\n"
          ]
        },
        {
          "output_type": "stream",
          "name": "stdout",
          "text": [
            "Downloading data for SNY\n",
            "Downloading data for BUD\n"
          ]
        },
        {
          "output_type": "stream",
          "name": "stderr",
          "text": [
            "[*********************100%%**********************]  1 of 1 completed\n",
            "[*********************100%%**********************]  1 of 1 completed\n"
          ]
        },
        {
          "output_type": "stream",
          "name": "stdout",
          "text": [
            "Downloading data for DTE.DE\n",
            "Downloading data for ALV.DE\n"
          ]
        },
        {
          "output_type": "stream",
          "name": "stderr",
          "text": [
            "[*********************100%%**********************]  1 of 1 completed\n",
            "[*********************100%%**********************]  1 of 1 completed\n"
          ]
        },
        {
          "output_type": "stream",
          "name": "stdout",
          "text": [
            "Downloading data for MDT\n",
            "Downloading data for AI.PA\n"
          ]
        },
        {
          "output_type": "stream",
          "name": "stderr",
          "text": [
            "[*********************100%%**********************]  1 of 1 completed\n",
            "[*********************100%%**********************]  1 of 1 completed\n"
          ]
        },
        {
          "output_type": "stream",
          "name": "stdout",
          "text": [
            "Downloading data for EL.PA\n"
          ]
        },
        {
          "output_type": "stream",
          "name": "stderr",
          "text": [
            "\r[*********************100%%**********************]  1 of 1 completed"
          ]
        },
        {
          "output_type": "stream",
          "name": "stdout",
          "text": [
            "Downloading data for BAJFINANCE.NS\n",
            "Downloading data for MARUTI.NS\n"
          ]
        },
        {
          "output_type": "stream",
          "name": "stderr",
          "text": [
            "\n",
            "[*********************100%%**********************]  1 of 1 completed\n",
            "[*********************100%%**********************]  1 of 1 completed\n"
          ]
        },
        {
          "output_type": "stream",
          "name": "stdout",
          "text": [
            "Downloading data for HCLTECH.NS\n",
            "Downloading data for TATAMOTORS.NS\n"
          ]
        },
        {
          "output_type": "stream",
          "name": "stderr",
          "text": [
            "[*********************100%%**********************]  1 of 1 completed\n",
            "[*********************100%%**********************]  1 of 1 completed\n"
          ]
        },
        {
          "output_type": "stream",
          "name": "stdout",
          "text": [
            "Downloading data for SUNPHARMA.NS\n",
            "Downloading data for ONGC.NS\n"
          ]
        },
        {
          "output_type": "stream",
          "name": "stderr",
          "text": [
            "[*********************100%%**********************]  1 of 1 completed\n",
            "[*********************100%%**********************]  1 of 1 completed\n"
          ]
        },
        {
          "output_type": "stream",
          "name": "stdout",
          "text": [
            "Downloading data for ADANIENT.NS\n",
            "Downloading data for NTPC.NS\n"
          ]
        },
        {
          "output_type": "stream",
          "name": "stderr",
          "text": [
            "[*********************100%%**********************]  1 of 1 completed\n",
            "[*********************100%%**********************]  1 of 1 completed\n"
          ]
        },
        {
          "output_type": "stream",
          "name": "stdout",
          "text": [
            "Downloading data for KOTAKBANK.NS\n",
            "Downloading data for TITAN.NS\n"
          ]
        },
        {
          "output_type": "stream",
          "name": "stderr",
          "text": [
            "\r[*********************100%%**********************]  1 of 1 completed\n"
          ]
        },
        {
          "output_type": "stream",
          "name": "stdout",
          "text": [
            "Percentage of days when LARGE stocks outperformed LARGEST stocks: 46.628131021194605%\n"
          ]
        }
      ]
    },
    {
      "cell_type": "markdown",
      "source": [
        "## Question 4: Trying Another Technical Indicators strategy\n",
        "What's the total gross profit (in THOUSANDS of $) you'll get from trading on CCI (no fees assumption)?\n",
        "\n",
        "First, run the entire Colab to obtain the full DataFrame of data (after [Code Snippet 9]), and truncate it to the last full 10 years of data (2014-01-01 to 2023-12-31). If you encounter any difficulties running the Colab - you can download it using this link.\n",
        "\n",
        "Let's assume you've learned about the awesome CCI indicator (Commodity Channel Index), and decided to use only it for your operations.\n",
        "\n",
        "You defined the \"defensive\" value of a high threshould of 200, and you trade only on Fridays (Date.dt.dayofweek()==4).\n",
        "\n",
        "That is, every time you see that CCI is >200 for any stock (out of those 33), you'll invest $1000 (each record when CCI>200) at Adj.Close price and hold it for 1 week (5 trading days) in order to sell at the Adj. Close price.\n",
        "\n",
        "What's the expected gross profit (no fees) that you get in THOUSANDS $ (closest integer value) over many operations in 10 years? One operation calculations: if you invested $1000 and received $1010 in 5 days - you add $10 to gross profit, if you received $980 - add -$20 to gross profit. You need to sum these results over all trades (460 times in 10 years).\n",
        "\n",
        "Additional:\n",
        "\n",
        "Add an approximate fees calculation over the 460 trades from this calculator https://www.degiro.ie/fees/calculator (Product:\"Shares, USA and Canada;\" Amount per transaction: \"1000 EUR\"; Transactions per year: \"460\")\n",
        "are you still profitable on those trades?\n"
      ],
      "metadata": {
        "id": "OaSwluRfWWbq"
      }
    },
    {
      "cell_type": "code",
      "source": [
        "from google.colab import drive\n",
        "drive.mount('/content/drive')"
      ],
      "metadata": {
        "colab": {
          "base_uri": "https://localhost:8080/"
        },
        "id": "yIvkDbjrR4WV",
        "outputId": "d4fa315a-1a9c-4f3e-be49-9e6ffeb3175e"
      },
      "execution_count": 5,
      "outputs": [
        {
          "output_type": "stream",
          "name": "stdout",
          "text": [
            "Drive already mounted at /content/drive; to attempt to forcibly remount, call drive.mount(\"/content/drive\", force_remount=True).\n"
          ]
        }
      ]
    },
    {
      "cell_type": "code",
      "source": [
        "\n",
        "file_path = '/content/drive/MyDrive/stocks_df_combined_2024_05_01.parquet.brotli'\n",
        "print(os.path.exists(file_path))\n",
        "# Load the Parquet file into a DataFrame\n",
        "try:\n",
        "    table = pq.read_table(file_path)\n",
        "    m16 = table.to_pandas()\n",
        "    print(m16.head())\n",
        "except Exception as e:\n",
        "    print(f\"Error reading the Parquet file: {e}\")"
      ],
      "metadata": {
        "colab": {
          "base_uri": "https://localhost:8080/"
        },
        "id": "r4puaXxZTmkM",
        "outputId": "b287bca8-df3a-446f-dda7-f096a9e9ba2a"
      },
      "execution_count": 7,
      "outputs": [
        {
          "output_type": "stream",
          "name": "stdout",
          "text": [
            "True\n",
            "       Open      High       Low     Close  Adj Close_x        Volume Ticker  \\\n",
            "0  0.088542  0.101563  0.088542  0.097222     0.060163  1.031789e+09   MSFT   \n",
            "1  0.097222  0.102431  0.097222  0.100694     0.062311  3.081600e+08   MSFT   \n",
            "2  0.100694  0.103299  0.100694  0.102431     0.063386  1.331712e+08   MSFT   \n",
            "3  0.102431  0.103299  0.098958  0.099826     0.061774  6.776640e+07   MSFT   \n",
            "4  0.099826  0.100694  0.097222  0.098090     0.060700  4.789440e+07   MSFT   \n",
            "\n",
            "   Year      Month  Weekday  ... growth_brent_oil_7d  growth_brent_oil_30d  \\\n",
            "0  1986 1986-03-01        3  ...                 NaN                   NaN   \n",
            "1  1986 1986-03-01        4  ...                 NaN                   NaN   \n",
            "2  1986 1986-03-01        0  ...                 NaN                   NaN   \n",
            "3  1986 1986-03-01        1  ...                 NaN                   NaN   \n",
            "4  1986 1986-03-01        2  ...                 NaN                   NaN   \n",
            "\n",
            "   growth_brent_oil_90d  growth_brent_oil_365d  growth_btc_usd_1d  \\\n",
            "0                   NaN                    NaN                NaN   \n",
            "1                   NaN                    NaN                NaN   \n",
            "2                   NaN                    NaN                NaN   \n",
            "3                   NaN                    NaN                NaN   \n",
            "4                   NaN                    NaN                NaN   \n",
            "\n",
            "   growth_btc_usd_3d  growth_btc_usd_7d  growth_btc_usd_30d  \\\n",
            "0                NaN                NaN                 NaN   \n",
            "1                NaN                NaN                 NaN   \n",
            "2                NaN                NaN                 NaN   \n",
            "3                NaN                NaN                 NaN   \n",
            "4                NaN                NaN                 NaN   \n",
            "\n",
            "   growth_btc_usd_90d  growth_btc_usd_365d  \n",
            "0                 NaN                  NaN  \n",
            "1                 NaN                  NaN  \n",
            "2                 NaN                  NaN  \n",
            "3                 NaN                  NaN  \n",
            "4                 NaN                  NaN  \n",
            "\n",
            "[5 rows x 202 columns]\n"
          ]
        }
      ]
    },
    {
      "cell_type": "code",
      "source": [
        "# Filter data for the last full 10 years\n",
        "m16['Date'] = pd.to_datetime(m16['Date'])\n",
        "df = m16[(m16['Date'] >= '2014-01-01') & (m16['Date'] <= '2023-12-31')]\n",
        "\n",
        "# Calculate trading signals\n",
        "m16['Signal'] = (m16['cci'] > 200) & (m16['Date'].dt.dayofweek == 4)\n",
        "\n",
        "m16['Price_in_5_days'] = m16['Adj Close_x'].shift(-5)\n",
        "\n",
        "# Filter rows where trading happens\n",
        "trades = m16[m16['Signal']]\n",
        "\n",
        "# Calculate profits for each trade\n",
        "trades['Profit'] = (trades['Price_in_5_days'] - trades['Adj Close_x']) / trades['Adj Close_x'] * 1000\n",
        "\n",
        "# Total gross profit\n",
        "total_gross_profit = trades['Profit'].sum()\n",
        "\n",
        "# Convert profit to thousands of dollars\n",
        "total_gross_profit_k = int(total_gross_profit / 1000)\n",
        "\n",
        "print(f\"Total Gross Profit in Thousands of $: {total_gross_profit_k}\")\n"
      ],
      "metadata": {
        "colab": {
          "base_uri": "https://localhost:8080/"
        },
        "id": "KrwGYmN3T4uR",
        "outputId": "90eea25e-3d76-4e38-d1b4-7d0f9a0eee91"
      },
      "execution_count": 11,
      "outputs": [
        {
          "output_type": "stream",
          "name": "stdout",
          "text": [
            "Total Gross Profit in Thousands of $: 3\n"
          ]
        },
        {
          "output_type": "stream",
          "name": "stderr",
          "text": [
            "<ipython-input-11-8d00c8227bdb>:16: SettingWithCopyWarning: \n",
            "A value is trying to be set on a copy of a slice from a DataFrame.\n",
            "Try using .loc[row_indexer,col_indexer] = value instead\n",
            "\n",
            "See the caveats in the documentation: https://pandas.pydata.org/pandas-docs/stable/user_guide/indexing.html#returning-a-view-versus-a-copy\n",
            "  trades['Profit'] = (trades['Price_in_5_days'] - trades['Adj Close_x']) / trades['Adj Close_x'] * 1000\n"
          ]
        }
      ]
    },
    {
      "cell_type": "code",
      "source": [],
      "metadata": {
        "id": "PeIF9QHtVTBI"
      },
      "execution_count": null,
      "outputs": []
    }
  ]
}